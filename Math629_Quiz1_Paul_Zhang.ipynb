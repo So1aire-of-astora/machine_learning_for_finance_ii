{
 "cells": [
  {
   "cell_type": "markdown",
   "id": "62f542ee-f22e-459a-a246-24d3720c5451",
   "metadata": {},
   "source": [
    "Q1 (20 Points). Generate two random numbers, n1, and n2 between 6 and 10. Construct an identity matrix my_eye, of size n1 by n2 (do not hard code). Then, construct a tensor of zeros, my_zeros of size of the same size as my_eye (do not specify n1 or n2 when you create my_zeros)."
   ]
  },
  {
   "cell_type": "code",
   "execution_count": 29,
   "id": "988e3734",
   "metadata": {},
   "outputs": [],
   "source": [
    "import numpy as np\n",
    "import torch\n",
    "import matplotlib.pyplot as plt"
   ]
  },
  {
   "cell_type": "code",
   "execution_count": 4,
   "id": "b7dd9905-06c8-435d-b7f7-5001a7fc7b47",
   "metadata": {},
   "outputs": [],
   "source": [
    "np.random.seed(2024) # may i set a seed?\n",
    "n1, n2 = np.random.randint(6, 11, size = 2)\n",
    "my_eye = np.eye(n1, n2)\n",
    "my_zeros = torch.Tensor(np.zeros(my_eye.shape))\n"
   ]
  },
  {
   "cell_type": "markdown",
   "id": "db37112d-1b7b-47a0-9468-307cebb4e112",
   "metadata": {},
   "source": [
    "Q2 (10 Points). Write a function that uses slicing assignment operations to modify the first 6 rows and first 8 columns of the tensor my zeros so they are equal to\n",
    "\n",
    "$$\n",
    "\\begin{bmatrix}\n",
    "0 & 1 & 1 & 2 & 2 & 2 & 2 & 2\\\\\n",
    "0 & 1 & 1 & 2 & 2 & 2 & 2 & 2\\\\\n",
    "3 & 4 & 3 & 4 & 5 & 5 & 6 & 8\\\\\n",
    "3 & 4 & 3 & 4 & 5 & 5 & 6 & 8\\\\\n",
    "3 & 4 & 3 & 4 & 5 & 5 & 6 & 8\\\\\n",
    "3 & 4 & 3 & 4 & 5 & 5 & 6 & 8\\\\\n",
    "\\end{bmatrix}\n",
    "$$"
   ]
  },
  {
   "cell_type": "code",
   "execution_count": 10,
   "id": "fcc262be-5446-4eca-ac8a-77e0a58a5a12",
   "metadata": {},
   "outputs": [
    {
     "data": {
      "text/plain": [
       "tensor([[0., 1., 1., 2., 2., 2., 2., 2.],\n",
       "        [0., 1., 1., 2., 2., 2., 2., 2.],\n",
       "        [3., 4., 3., 4., 5., 5., 6., 8.],\n",
       "        [3., 4., 3., 4., 5., 5., 6., 8.],\n",
       "        [3., 4., 3., 4., 5., 5., 6., 8.],\n",
       "        [3., 4., 3., 4., 5., 5., 6., 8.]])"
      ]
     },
     "execution_count": 10,
     "metadata": {},
     "output_type": "execute_result"
    }
   ],
   "source": [
    "row_1 = torch.Tensor([0, 1, 1] + [2] * 5)\n",
    "row_2 = torch.Tensor([3, 4]*2 + [5, 5, 6, 8])\n",
    "my_zeros[:2, :8] = row_1\n",
    "my_zeros[2:6, :8] = row_2\n",
    "my_zeros"
   ]
  },
  {
   "cell_type": "markdown",
   "id": "d9dc32ea-ade0-41c8-a3b2-115013b26edb",
   "metadata": {},
   "source": [
    "Q3 (20+10 Points). $softplus(𝑥) = \\alpha x + (1- \\alpha) Log(1 +e^x)$ represents a family of smooth functions that can replace ReLu. Use your last two digits of UM ID divided by 100 as $\\alpha$ (for example if the last two digits are 95, choose 0.95).\n",
    "Evaluate the gradient of this function at x = -0.1 , x = 0.0, and x= 0.1 using Pytorch autograd functionality and verify them by its closed form. You get bonus points if you plot a few of these along with ReLU"
   ]
  },
  {
   "cell_type": "code",
   "execution_count": 26,
   "id": "ad55aa61-5ee6-4240-9d35-1f8e57ba3d25",
   "metadata": {},
   "outputs": [
    {
     "name": "stdout",
     "output_type": "stream",
     "text": [
      "tensor([0.5170, 0.5400, 0.5630]) tensor([0.5170, 0.5400, 0.5630], grad_fn=<AddBackward0>)\n"
     ]
    }
   ],
   "source": [
    "alpha = .08\n",
    "x = torch.tensor([-.1, 0., .1], requires_grad = True)\n",
    "softplux = lambda x: alpha*x + (1-alpha)*torch.log1p(torch.exp(x))\n",
    "y = softplux(x)\n",
    "ext_grad = torch.tensor([1., 1., 1.])\n",
    "y.backward(gradient = ext_grad)\n",
    "grad_func = lambda x: alpha + (1-alpha) * torch.exp(x) / (1 + torch.exp(x))\n",
    "x_grad_closed = grad_func(x)\n",
    "print(x.grad, x_grad_closed)\n"
   ]
  },
  {
   "cell_type": "code",
   "execution_count": 28,
   "id": "eef96a1c",
   "metadata": {},
   "outputs": [
    {
     "data": {
      "text/plain": [
       "tensor([0., 0., 1.])"
      ]
     },
     "execution_count": 28,
     "metadata": {},
     "output_type": "execute_result"
    }
   ],
   "source": [
    "x_cp = torch.tensor([-.1, 0., .1], requires_grad = True)\n",
    "y_relu = torch.nn.functional.relu(x_cp)\n",
    "y_relu.backward(gradient = ext_grad)\n",
    "x_cp.grad"
   ]
  },
  {
   "cell_type": "code",
   "execution_count": 34,
   "id": "9c1e7afa",
   "metadata": {},
   "outputs": [
    {
     "data": {
      "text/plain": [
       "[<matplotlib.lines.Line2D at 0x161816b90>]"
      ]
     },
     "execution_count": 34,
     "metadata": {},
     "output_type": "execute_result"
    },
    {
     "data": {
      "image/png": "[encoded data removed]",
      "text/plain": [
       "<Figure size 640x480 with 1 Axes>"
      ]
     },
     "metadata": {},
     "output_type": "display_data"
    }
   ],
   "source": [
    "ax = torch.tensor(np.arange(-5, 5, .02))\n",
    "plt.plot(ax, softplux(ax))\n",
    "plt.plot(ax, torch.nn.functional.relu(ax))"
   ]
  },
  {
   "cell_type": "markdown",
   "id": "b81e5ab7-4585-481e-a0d5-bc5b624675d7",
   "metadata": {},
   "source": [
    "Q4-1 (5 Points). In terms of computational efficiency, what is achieved during backpropagation modular implementation? \n"
   ]
  },
  {
   "cell_type": "markdown",
   "id": "d95aed1f-2e82-47aa-9d6f-417dd448bb23",
   "metadata": {},
   "source": [
    "Computing the gradients is more efficient than computing derivatives for each individual weights."
   ]
  },
  {
   "cell_type": "markdown",
   "id": "93b5c123-c5b7-40ff-9168-755757fa26b6",
   "metadata": {},
   "source": [
    "Q4-2 (5 Points) What are the advantages of the stochastic and batch gradient descent methods (one of each)? "
   ]
  },
  {
   "cell_type": "markdown",
   "id": "68d2106e-217a-4d95-b8cf-f50dbb5b6e86",
   "metadata": {},
   "source": [
    "SGD: Faster convergence\n",
    "Batch GD: Vectorization and thus faster training"
   ]
  },
  {
   "cell_type": "markdown",
   "id": "30d5e87e-8527-4a5c-9dae-3cc8dbac2ba0",
   "metadata": {},
   "source": [
    "Q5. (10 Points) Number of parameters required to model a feedforward neural network which takes 30 $\\times$ 30 gray scale image data as input, has three hidden layers with four hidden units each, and learns a five class in the output layer, are: "
   ]
  },
  {
   "cell_type": "code",
   "execution_count": 20,
   "id": "fa3b1215-aa1d-41f8-8bc0-6fda57f511b3",
   "metadata": {},
   "outputs": [
    {
     "data": {
      "text/plain": [
       "4600"
      ]
     },
     "execution_count": 20,
     "metadata": {},
     "output_type": "execute_result"
    }
   ],
   "source": [
    "num_params = 900 * 5 + 5**2 * 3 + 5*5\n",
    "num_params"
   ]
  },
  {
   "cell_type": "markdown",
   "id": "870ec126-14fe-4a4d-8378-666568602b74",
   "metadata": {},
   "source": [
    "Q6 (10+10 Points). a) What happens if we remove all non-linearities between the layers of neural networks in above question? <br>\n",
    "b) What is the best strategy for initializing a neural network weights?\n",
    "(Bonus) What can go wrong if we initialize all weights to be equal at the beginning of training?"
   ]
  },
  {
   "cell_type": "markdown",
   "id": "dcd21bc0-f9f0-4751-81ab-496c9d762656",
   "metadata": {},
   "source": [
    "### (a)\n",
    "It reduces to a multivariate linear regression model, regardless of the numbers of layers and units.\n",
    "### (b)\n",
    "Using normal distribution with $\\mu = 0$ and $\\sigma = \\frac{1}{\\sqrt{\\text{num\\_units}}}$; If we initialize all weights to be equal at the beginning, the forward pass and backward propagation algorithms will treat all units as the same, and they will end up with the same weights. You don't want any of this."
   ]
  },
  {
   "cell_type": "markdown",
   "id": "12af320b-0ed0-4063-85f8-91ed0974580a",
   "metadata": {},
   "source": [
    "Q7 (20 Point). Create a dataset class \"set_xx\" as a subclass of abstract class Dataset from torch.utils.data where xx are the last two digits of your UM ID. Your class creates an object by accepting an integer, n as the length that by default is 20. This object has two attributes X and y. X and y are tensors of n $\\times$ 3 and n $\\times$ 2 of ones. Create an instance of this class with a name and size of your choice. "
   ]
  },
  {
   "cell_type": "code",
   "execution_count": 24,
   "id": "18d750ce-22bf-4212-a43b-0bea7ade01d0",
   "metadata": {},
   "outputs": [],
   "source": [
    "class set_xx(torch.utils.data.Dataset):\n",
    "    def __init__(self, n = 20):\n",
    "        self.X = torch.tensor(np.ones([n, 3]))\n",
    "        self.y = torch.tensor(np.ones([n, 2]))\n",
    "\n",
    "my_obj = set_xx(n = 100)"
   ]
  }
 ],
 "metadata": {
  "kernelspec": {
   "display_name": "Python 3 (ipykernel)",
   "language": "python",
   "name": "python3"
  },
  "language_info": {
   "codemirror_mode": {
    "name": "ipython",
    "version": 3
   },
   "file_extension": ".py",
   "mimetype": "text/x-python",
   "name": "python",
   "nbconvert_exporter": "python",
   "pygments_lexer": "ipython3",
   "version": "3.11.9"
  }
 },
 "nbformat": 4,
 "nbformat_minor": 5
}
