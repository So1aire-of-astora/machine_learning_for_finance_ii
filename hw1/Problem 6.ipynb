{
 "cells": [
  {
   "cell_type": "markdown",
   "metadata": {
    "colab_type": "text",
    "id": "bIAYbYajk1w9"
   },
   "source": [
    "# Problem 6. Multilayer Perceptrons with PyTorch\n",
    "\n",
    "- In this homework you will train (again) a multilayer perceptron\n",
    "\n",
    "- But differently from what you did in `Problem 5`, since this time, you will let the `PyTorch` library do most of the complicated work for you\n",
    "\n",
    "- The goal of this notebook is to make you get familiar with `PyTorch` and the its main concepts, that we will use repeatedly along the course.\n",
    "\n",
    "- We will be training a multilayer perceptron on the `CIFAR-10` dataset, a popular dataset of images that is used in Computer-Vision (CV) research\n",
    "\n",
    "- You will need to use a lot the documentation of `PyTorch` and look at examples for this notebook."
   ]
  },
  {
   "cell_type": "code",
   "execution_count": null,
   "metadata": {
    "ExecuteTime": {
     "end_time": "2021-02-19T11:25:27.197652Z",
     "start_time": "2021-02-19T11:25:26.473286Z"
    },
    "colab": {
     "base_uri": "https://localhost:8080/",
     "height": 34
    },
    "colab_type": "code",
    "executionInfo": {
     "elapsed": 1060,
     "status": "ok",
     "timestamp": 1545794710219,
     "user": {
      "displayName": "Buomsoo Kim",
      "photoUrl": "",
      "userId": "18268696804115368229"
     },
     "user_tz": 420
    },
    "id": "8yy37hEYOEiQ",
    "outputId": "4434d2e8-c5e8-4dce-8316-7f9230dc1b75"
   },
   "outputs": [],
   "source": [
    "import torch, torchvision\n",
    "import numpy as np\n",
    "import torch.nn as nn\n",
    "from torchvision import datasets\n",
    "import torchvision.transforms as transforms\n",
    "from matplotlib import pyplot as plt "
   ]
  },
  {
   "cell_type": "markdown",
   "metadata": {},
   "source": [
    "## Problem 6A: Load the dataset\n",
    "\n",
    "- `PyTorch` provides popular computer vision datasets that can be easily downloaded\n",
    "- The following code will download the `CIFAR-10` dataset for us  \n",
    "- Since it is computationally expensive to load the entire dataset into memory, we will use `PyTorch`'s dataloaders  before feeding batches of images to the neural network"
   ]
  },
  {
   "cell_type": "code",
   "execution_count": null,
   "metadata": {
    "ExecuteTime": {
     "end_time": "2021-02-19T12:37:41.998615Z",
     "start_time": "2021-02-19T12:37:41.993076Z"
    },
    "colab": {
     "base_uri": "https://localhost:8080/",
     "height": 52
    },
    "colab_type": "code",
    "executionInfo": {
     "elapsed": 2530,
     "status": "ok",
     "timestamp": 1545795192346,
     "user": {
      "displayName": "Buomsoo Kim",
      "photoUrl": "",
      "userId": "18268696804115368229"
     },
     "user_tz": 420
    },
    "id": "W5anlYa01w3w",
    "outputId": "dc43d91b-ad85-423f-fb18-1a0d2af22f25",
    "scrolled": true
   },
   "outputs": [],
   "source": [
    "transform = transforms.Compose(\n",
    "    [transforms.ToTensor(),\n",
    "     transforms.Normalize((0.5, 0.5, 0.5), (0.5, 0.5, 0.5))])\n",
    "\n",
    "trainset = datasets.CIFAR10(root = \"./data\", train = True, download = True, transform = transform)\n",
    "testset = datasets.CIFAR10(root = \"./data\", train = False, download = True, transform = transform)\n",
    "\n",
    "batch_size = ?\n",
    "# You should use as many cores you have on your laptop\n",
    "num_workers = ?\n",
    "\n",
    "# Fill in the options for both data loaders. Warning: the training dataloader should shuffle the data\n",
    "trainloader = torch.utils.data.DataLoader(?)\n",
    "testloader = torch.utils.data.DataLoader(?)\n",
    "\n",
    "classes = ('plane', 'car', 'bird', 'cat', 'deer', 'dog', 'frog', 'horse', 'ship', 'truck')"
   ]
  },
  {
   "cell_type": "markdown",
   "metadata": {},
   "source": [
    "## Visualize the Images of CIFAR-10\n",
    "\n",
    "* Once everything is properly loaded you should be able to visualize some of the samples of the CIFAR-10"
   ]
  },
  {
   "cell_type": "code",
   "execution_count": null,
   "metadata": {},
   "outputs": [],
   "source": [
    "def show_images(img):\n",
    "    img = img / 2 + 0.5\n",
    "    npimg = img.numpy()\n",
    "    plt.figure(figsize=(12, 12))\n",
    "    plt.imshow(np.transpose(npimg, (1, 2, 0)))\n",
    "    plt.xticks(())\n",
    "    plt.yticks(())\n",
    "    plt.show()\n",
    "    \n",
    "dataiter = iter(trainloader)\n",
    "images, labels = dataiter.next()\n",
    "show_images(torchvision.utils.make_grid(images))\n",
    "print(' '.join('%5s' % classes[labels[j]] for j in range(batch_size)))"
   ]
  },
  {
   "cell_type": "markdown",
   "metadata": {
    "colab_type": "text",
    "id": "9nznVMdo5edZ"
   },
   "source": [
    "## Problem 6B. Creating an MLP model\n",
    "\n",
    "- We are now ready to define all the necessary hyperparameters that are required to construct a proper MLP\n",
    "- Similarly to what we did in `Problem 5` we need to explore the data carefully in order to know how to set the following parameters\n",
    "\n",
    "### Hyperparameters\n",
    "\n",
    "Choose suitable hyperparameters."
   ]
  },
  {
   "cell_type": "code",
   "execution_count": null,
   "metadata": {},
   "outputs": [],
   "source": [
    "input_dim = ?\n",
    "hidden_dim = ?\n",
    "output_dim = ?\n",
    "learning_rate = ?\n",
    "num_epochs = ?"
   ]
  },
  {
   "cell_type": "markdown",
   "metadata": {},
   "source": [
    "### Define the Network\n",
    "\n",
    "- You are free to define any kind of architecture that you think is reasonable for the problem of classifying CIFAR-10 images\n",
    "- By default, you can use a multi-layer perceptron\n",
    "- The constructor of the neural network will represent the different components of the computation-graph, note that it is very similar to the way we have programmed our own neural network in `Problem 5`.\n",
    "- You will also have to define the forward pass yourself."
   ]
  },
  {
   "cell_type": "code",
   "execution_count": null,
   "metadata": {
    "colab": {},
    "colab_type": "code",
    "id": "AQawpMRPI7jm"
   },
   "outputs": [],
   "source": [
    "class Net(nn.Module):\n",
    "    def __init__(self, input_dim, hidden_dim, output_dim):\n",
    "        super(Net, self).__init__()\n",
    "\n",
    "        ???\n",
    "        \n",
    "    def forward(self, x):\n",
    "        ???"
   ]
  },
  {
   "cell_type": "markdown",
   "metadata": {},
   "source": [
    "## Problem 6C: Instantiate and Train the Network\n",
    "\n",
    "- You are now ready to create your neural network object\n",
    "- You will also have to define an appropriate loss function to minimize and an optimization algorithm\n",
    "- By default, you can use the cross-entropy loss and the RMS prop optimizer"
   ]
  },
  {
   "cell_type": "code",
   "execution_count": null,
   "metadata": {
    "colab": {},
    "colab_type": "code",
    "id": "cPBm8qDrSWsi"
   },
   "outputs": [],
   "source": [
    "model = Net(?, ?, ?)\n",
    "criterion = ?\n",
    "optimizer = ?"
   ]
  },
  {
   "cell_type": "markdown",
   "metadata": {
    "colab": {},
    "colab_type": "code",
    "collapsed": true,
    "id": "rP0Gt5E9ajmd"
   },
   "source": [
    "### Train the Network\n",
    "\n",
    "- Once you have your neural network you just need to train it. \n",
    "- You will have to compute the output of the forward pass, compare it to your desired output and update the parameters of the network by backpropagation. \n",
    "- Fortunately this time, this only requires less than 5 lines of code in `PyTorch`"
   ]
  },
  {
   "cell_type": "code",
   "execution_count": null,
   "metadata": {
    "colab": {
     "base_uri": "https://localhost:8080/",
     "height": 193
    },
    "colab_type": "code",
    "executionInfo": {
     "elapsed": 89814,
     "status": "ok",
     "timestamp": 1545795315447,
     "user": {
      "displayName": "Buomsoo Kim",
      "photoUrl": "",
      "userId": "18268696804115368229"
     },
     "user_tz": 420
    },
    "id": "SEBtAPYCFeic",
    "outputId": "edda354d-30d8-40cb-fef0-9c2a4fd968eb"
   },
   "outputs": [],
   "source": [
    "def train(num_epochs):\n",
    "    for i in range(num_epochs):\n",
    "        ???"
   ]
  },
  {
   "cell_type": "code",
   "execution_count": null,
   "metadata": {},
   "outputs": [],
   "source": [
    "train(num_epochs)"
   ]
  },
  {
   "cell_type": "markdown",
   "metadata": {},
   "source": [
    "- Of course, repeated calls to `train` will continue training from where it were\n",
    "- Training a neural network is a highly iterative process."
   ]
  },
  {
   "cell_type": "markdown",
   "metadata": {
    "colab_type": "text",
    "id": "qpAJUiHm529m"
   },
   "source": [
    "## Problem 6D: Evaluate the final performance of the Network\n",
    "\n",
    "- Once you think your network is properly trained, you will test its performance on the testing-set of the CIFAR-10 dataset\n",
    "- Compute the final accuracy of your model\n",
    "- You should be able to reach a 50% accuracy with a simple multi-layer perceptron"
   ]
  },
  {
   "cell_type": "code",
   "execution_count": null,
   "metadata": {
    "colab": {
     "base_uri": "https://localhost:8080/",
     "height": 72
    },
    "colab_type": "code",
    "executionInfo": {
     "elapsed": 2278,
     "status": "ok",
     "timestamp": 1545795466013,
     "user": {
      "displayName": "Buomsoo Kim",
      "photoUrl": "",
      "userId": "18268696804115368229"
     },
     "user_tz": 420
    },
    "id": "txXH3dknFpSx",
    "outputId": "9330f014-2687-4464-b495-1ba861511e38"
   },
   "outputs": [],
   "source": [
    "def test():\n",
    "    "
   ]
  },
  {
   "cell_type": "code",
   "execution_count": null,
   "metadata": {},
   "outputs": [],
   "source": [
    "test()"
   ]
  },
  {
   "cell_type": "markdown",
   "metadata": {},
   "source": [
    "**Final remark.** Of course, this is far from being the state-of-the-art. Indeed, convolutional neural nets are the backbones for computer vision problems (we will do it in following labs), while we only used here a feed-forward network."
   ]
  },
  {
   "cell_type": "markdown",
   "metadata": {
    "ExecuteTime": {
     "end_time": "2021-02-19T11:20:48.131197Z",
     "start_time": "2021-02-19T11:20:48.126926Z"
    }
   },
   "source": [
    "## Bonus: Redo it using `pytorch-lightning`\n",
    "\n",
    "There is some boilerplates in pure `PyTorch` code. The `pytorch-lighting` library is a new library allowing to simplify a lot the use of `PyTorch` together with very nice options for faster training and development.\n",
    "\n",
    "**QUESTION**. Recode your neural network and its training using `pytorch-lightning`."
   ]
  },
  {
   "cell_type": "code",
   "execution_count": null,
   "metadata": {},
   "outputs": [],
   "source": []
  }
 ],
 "metadata": {
  "accelerator": "GPU",
  "colab": {
   "collapsed_sections": [],
   "name": "DL-with-pytorch - 2 [MLP].ipynb",
   "provenance": [],
   "version": "0.3.2"
  },
  "kernelspec": {
   "display_name": "ml_finance",
   "language": "python",
   "name": "python3"
  },
  "language_info": {
   "codemirror_mode": {
    "name": "ipython",
    "version": 3
   },
   "file_extension": ".py",
   "mimetype": "text/x-python",
   "name": "python",
   "nbconvert_exporter": "python",
   "pygments_lexer": "ipython3",
   "version": "3.11.9"
  },
  "toc": {
   "base_numbering": 1,
   "nav_menu": {},
   "number_sections": true,
   "sideBar": true,
   "skip_h1_title": true,
   "title_cell": "Table of Contents",
   "title_sidebar": "Contents",
   "toc_cell": false,
   "toc_position": {},
   "toc_section_display": true,
   "toc_window_display": true
  }
 },
 "nbformat": 4,
 "nbformat_minor": 1
}
